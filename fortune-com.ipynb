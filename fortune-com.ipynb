{
 "cells": [
  {
   "cell_type": "code",
   "execution_count": 1,
   "id": "876fb5c6-e7ed-4bc3-87a5-bdf64a5a8ef8",
   "metadata": {},
   "outputs": [],
   "source": [
    "import requests\n",
    "import pandas as pd\n",
    "import re\n",
    "from bs4 import BeautifulSoup\n",
    "import json"
   ]
  },
  {
   "cell_type": "code",
   "execution_count": 2,
   "id": "5c343930-5da8-48c1-8531-e86a7317e457",
   "metadata": {},
   "outputs": [],
   "source": [
    "# pretty column name\n",
    "def rename_column(name):\n",
    "    name = name.lower()\n",
    "    \n",
    "    # Remove 'data.' prefix if present\n",
    "    if name.startswith('data.'):\n",
    "        name = name.replace('data.', '')\n",
    "    \n",
    "    # Replace non-alphanumeric characters with underscores\n",
    "    name = re.sub(r'[^\\w]', '_', name)\n",
    "    \n",
    "    # Replace multiple underscores with a single underscore\n",
    "    name = re.sub(r'__+', '_', name)\n",
    "    \n",
    "    # Remove leading and trailing underscores\n",
    "    name = name.strip('_')\n",
    "    return name\n",
    "\n",
    "# use cache to prevent duplicate request\n",
    "company_name_cache = {}\n",
    "\n",
    "def convert_company_name_to_ticker(slug):\n",
    "    if slug in company_name_cache:\n",
    "        return company_name_cache[slug]\n",
    "\n",
    "    url = f'https://fortune.com{slug}'\n",
    "    response = requests.get(url)\n",
    "    soup = BeautifulSoup(response.content, 'html.parser')\n",
    "    \n",
    "    ticker_label = soup.find('script', id='__NEXT_DATA__')\n",
    "    comapny_data = json.loads(ticker_label.text)\n",
    "    ticker = comapny_data['props']['pageProps']['company']['companyInfo']['Ticker']\n",
    "    company_name_cache[slug] = ticker\n",
    "    return ticker\n",
    "    \n",
    "\n",
    "# this funciton get the ranking search from fortune from year provided\n",
    "def fortuneGetRankingYear(year):\n",
    "    url = f'https://fortune.com/api/getRankingSearchYear/fortune500/{year}/'\n",
    "    response = requests.get(url)\n",
    "    data = response.json()\n",
    "\n",
    "    # load dataframe\n",
    "    df = pd.json_normalize(data['items'])\n",
    "    df.columns = [rename_column(col) for col in df.columns]\n",
    "    df['ticker'] = df['slug'].apply(convert_company_name_to_ticker)\n",
    "\n",
    "    \n",
    "    df['year'] = year\n",
    "\n",
    "    return df"
   ]
  },
  {
   "cell_type": "code",
   "execution_count": 3,
   "id": "ce6cf230-4ae5-4d78-944c-b51ab224c1c8",
   "metadata": {},
   "outputs": [
    {
     "data": {
      "text/plain": [
       "'WMT'"
      ]
     },
     "execution_count": 3,
     "metadata": {},
     "output_type": "execute_result"
    }
   ],
   "source": [
    "# test function\n",
    "convert_company_name_to_ticker(\"/company/walmart\")"
   ]
  },
  {
   "cell_type": "code",
   "execution_count": 4,
   "id": "72209a54-e4a1-41f3-b8e6-504b5ffbb9a0",
   "metadata": {},
   "outputs": [
    {
     "name": "stdout",
     "output_type": "stream",
     "text": [
      "1000\n",
      "Successfully retrieved data for year: 2014\n",
      "998\n",
      "Successfully retrieved data for year: 2015\n",
      "998\n",
      "Successfully retrieved data for year: 2016\n",
      "998\n",
      "Successfully retrieved data for year: 2017\n",
      "998\n",
      "Successfully retrieved data for year: 2018\n",
      "999\n",
      "Successfully retrieved data for year: 2019\n",
      "999\n",
      "Successfully retrieved data for year: 2020\n",
      "1000\n",
      "Successfully retrieved data for year: 2021\n",
      "1000\n",
      "Successfully retrieved data for year: 2022\n",
      "1000\n",
      "Successfully retrieved data for year: 2023\n",
      "1000\n",
      "Successfully retrieved data for year: 2024\n"
     ]
    }
   ],
   "source": [
    "# this cell will take a long time to run\n",
    "\n",
    "all_years_df = []\n",
    "\n",
    "for year in range(2014, 2025):\n",
    "    yearly_df = fortuneGetRankingYear(year)\n",
    "    all_years_df.append(yearly_df)\n",
    "    print(f\"Successfully retrieved data for year: {year}\")"
   ]
  },
  {
   "cell_type": "code",
   "execution_count": 7,
   "id": "34ed81a0-50bb-48d9-ad06-5608e8400ab0",
   "metadata": {},
   "outputs": [],
   "source": [
    "merged_df = pd.concat(all_years_df, ignore_index=True)\n",
    "\n",
    "# filter all company dont have ticker (private company or etc)\n",
    "filtered_df = merged_df[merged_df['ticker'].notna()]\n",
    "\n"
   ]
  },
  {
   "cell_type": "code",
   "execution_count": 10,
   "id": "196b7891-894f-4628-a43d-9f2d642092fa",
   "metadata": {},
   "outputs": [],
   "source": [
    "merged_df.to_csv('merged_df.csv', index=False)\n"
   ]
  }
 ],
 "metadata": {
  "kernelspec": {
   "display_name": "Python 3 (ipykernel)",
   "language": "python",
   "name": "python3"
  },
  "language_info": {
   "codemirror_mode": {
    "name": "ipython",
    "version": 3
   },
   "file_extension": ".py",
   "mimetype": "text/x-python",
   "name": "python",
   "nbconvert_exporter": "python",
   "pygments_lexer": "ipython3",
   "version": "3.12.7"
  }
 },
 "nbformat": 4,
 "nbformat_minor": 5
}
